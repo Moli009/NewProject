{
  "cells": [
    {
      "cell_type": "markdown",
      "metadata": {
        "id": "5YNIISPploTY"
      },
      "source": [
        "_____\n",
        "**Write a program to create an array [10, 5, 7, 20, 15, -9, 33], print it, Find the maximum and minimum Value of the array**"
      ]
    },
    {
      "cell_type": "code",
      "execution_count": 1,
      "metadata": {
        "id": "LGwQ0y0wloTY",
        "colab": {
          "base_uri": "https://localhost:8080/"
        },
        "outputId": "73d24e75-30a1-4e97-8933-6228e3d689b9"
      },
      "outputs": [
        {
          "output_type": "stream",
          "name": "stdout",
          "text": [
            "Array: [10, 5, 7, 20, 15, -9, 33]\n",
            "Maximum value in the array: 33\n",
            "Minimum value in the array: -9\n"
          ]
        }
      ],
      "source": [
        "arr = [10, 5, 7, 20, 15, -9, 33]\n",
        "print(\"Array:\", arr)\n",
        "max_value = max(arr)\n",
        "min_value = min(arr)\n",
        "print(\"Maximum value in the array:\", max_value)\n",
        "print(\"Minimum value in the array:\", min_value)\n"
      ]
    },
    {
      "cell_type": "markdown",
      "metadata": {
        "id": "CjKQrl4ZloTY"
      },
      "source": [
        "______\n",
        "**Write a program to accept an array of elements and find the maximum without using max function**"
      ]
    },
    {
      "cell_type": "code",
      "execution_count": 3,
      "metadata": {
        "id": "jFqGo32uloTY",
        "colab": {
          "base_uri": "https://localhost:8080/"
        },
        "outputId": "b1466503-e551-4f76-dd42-cd298ef63806"
      },
      "outputs": [
        {
          "output_type": "stream",
          "name": "stdout",
          "text": [
            "Enter the number of elements in the array: 4\n",
            "Enter element 1: 10\n",
            "Enter element 2: 56\n",
            "Enter element 3: 2\n",
            "Enter element 4: 78\n",
            "Array: [10, 56, 2, 78]\n",
            "Maximum value in the array: 78\n"
          ]
        }
      ],
      "source": [
        "n = int(input(\"Enter the number of elements in the array: \"))\n",
        "arr = []\n",
        "for i in range(n):\n",
        "    element = int(input(f\"Enter element {i+1}: \"))\n",
        "    arr.append(element)\n",
        "print(\"Array:\", arr)\n",
        "max_value = arr[0]\n",
        "for num in arr[1:]:\n",
        "    if num > max_value:\n",
        "        max_value = num\n",
        "print(\"Maximum value in the array:\", max_value)\n"
      ]
    },
    {
      "cell_type": "markdown",
      "metadata": {
        "id": "V1Tbn_avloTY"
      },
      "source": [
        "___\n",
        "**Write a program to accept two matrices [[1,2],[3,4]],   [[2,4],[6,8]]and find the sum and subtraction of two matrices**"
      ]
    },
    {
      "cell_type": "code",
      "execution_count": 4,
      "metadata": {
        "id": "jyu705aKloTZ",
        "colab": {
          "base_uri": "https://localhost:8080/"
        },
        "outputId": "cf464dbc-e8f6-4484-fe78-c4c752ff1c58"
      },
      "outputs": [
        {
          "output_type": "stream",
          "name": "stdout",
          "text": [
            "Matrix 1:\n",
            "[1, 2]\n",
            "[3, 4]\n",
            "\n",
            "Matrix 2:\n",
            "[2, 4]\n",
            "[6, 8]\n",
            "\n",
            "Sum of matrices:\n",
            "[3, 6]\n",
            "[9, 12]\n",
            "\n",
            "Subtraction of matrices (Matrix1 - Matrix2):\n",
            "[-1, -2]\n",
            "[-3, -4]\n"
          ]
        }
      ],
      "source": [
        "matrix1 = [[1, 2],\n",
        "           [3, 4]]\n",
        "matrix2 = [[2, 4],\n",
        "           [6, 8]]\n",
        "sum_matrix = [[0, 0],\n",
        "              [0, 0]]\n",
        "\n",
        "sub_matrix = [[0, 0],\n",
        "              [0, 0]]\n",
        "for i in range(2):\n",
        "    for j in range(2):\n",
        "        sum_matrix[i][j] = matrix1[i][j] + matrix2[i][j]\n",
        "        sub_matrix[i][j] = matrix1[i][j] - matrix2[i][j]\n",
        "print(\"Matrix 1:\")\n",
        "for row in matrix1:\n",
        "    print(row)\n",
        "print(\"\\nMatrix 2:\")\n",
        "for row in matrix2:\n",
        "    print(row)\n",
        "print(\"\\nSum of matrices:\")\n",
        "for row in sum_matrix:\n",
        "    print(row)\n",
        "print(\"\\nSubtraction of matrices (Matrix1 - Matrix2):\")\n",
        "for row in sub_matrix:\n",
        "    print(row)\n"
      ]
    },
    {
      "cell_type": "markdown",
      "metadata": {
        "id": "e8iqIwlxloTZ"
      },
      "source": [
        "___\n",
        "**Write a program to generate a ranodom matrix of size 5 X 6. Add another row containing random elements to it. Find the sum of each row.**"
      ]
    },
    {
      "cell_type": "code",
      "execution_count": 5,
      "metadata": {
        "id": "RFvvJzj3loTZ",
        "colab": {
          "base_uri": "https://localhost:8080/"
        },
        "outputId": "caf579e2-aa57-46c3-826b-8ef4488572d5"
      },
      "outputs": [
        {
          "output_type": "stream",
          "name": "stdout",
          "text": [
            "Matrix (6x6 after adding row):\n",
            "[18, 78, 80, 8, 95, 22]\n",
            "[74, 40, 58, 82, 10, 14]\n",
            "[96, 99, 42, 13, 90, 61]\n",
            "[72, 47, 86, 30, 35, 83]\n",
            "[18, 61, 71, 51, 73, 77]\n",
            "[43, 33, 61, 84, 63, 58]\n",
            "\n",
            "Sum of each row:\n",
            "Row 1 sum: 301\n",
            "Row 2 sum: 278\n",
            "Row 3 sum: 401\n",
            "Row 4 sum: 353\n",
            "Row 5 sum: 351\n",
            "Row 6 sum: 342\n"
          ]
        }
      ],
      "source": [
        "import random\n",
        "rows = 5\n",
        "cols = 6\n",
        "matrix = [[random.randint(1, 100) for _ in range(cols)] for _ in range(rows)]\n",
        "new_row = [random.randint(1, 100) for _ in range(cols)]\n",
        "matrix.append(new_row)\n",
        "print(\"Matrix (6x6 after adding row):\")\n",
        "for row in matrix:\n",
        "    print(row)\n",
        "print(\"\\nSum of each row:\")\n",
        "for i, row in enumerate(matrix):\n",
        "    row_sum = sum(row)\n",
        "    print(f\"Row {i + 1} sum: {row_sum}\")\n"
      ]
    },
    {
      "cell_type": "markdown",
      "metadata": {
        "id": "CIhpDElPloTZ"
      },
      "source": [
        "___\n",
        "**Write a program to generate a ranodm integer matrix of size 5 X 6. Add another column containing random integers to it. Compute the sine of each element and print it**"
      ]
    },
    {
      "cell_type": "code",
      "execution_count": 6,
      "metadata": {
        "id": "HXJgYMTDloTZ",
        "colab": {
          "base_uri": "https://localhost:8080/"
        },
        "outputId": "21d8ea2a-3f61-45d3-a126-68117c47e8b8"
      },
      "outputs": [
        {
          "output_type": "stream",
          "name": "stdout",
          "text": [
            "Original 5x7 Matrix:\n",
            "[4, 32, 17, 3, 18, 56, 18]\n",
            "[9, 83, 23, 21, 32, 31, 90]\n",
            "[76, 50, 85, 22, 56, 22, 75]\n",
            "[83, 92, 35, 53, 49, 18, 69]\n",
            "[59, 59, 37, 94, 45, 46, 84]\n",
            "\n",
            "Sine of each element (in radians, rounded to 4 decimal places):\n",
            "[0.0698, 0.5299, 0.2924, 0.0523, 0.309, 0.829, 0.309]\n",
            "[0.1564, 0.9925, 0.3907, 0.3584, 0.5299, 0.515, 1.0]\n",
            "[0.9703, 0.766, 0.9962, 0.3746, 0.829, 0.3746, 0.9659]\n",
            "[0.9925, 0.9994, 0.5736, 0.7986, 0.7547, 0.309, 0.9336]\n",
            "[0.8572, 0.8572, 0.6018, 0.9976, 0.7071, 0.7193, 0.9945]\n"
          ]
        }
      ],
      "source": [
        "import random\n",
        "import math\n",
        "rows = 5\n",
        "cols = 6\n",
        "matrix = [[random.randint(1, 100) for _ in range(cols)] for _ in range(rows)]\n",
        "for row in matrix:\n",
        "    row.append(random.randint(1, 100))\n",
        "sine_matrix = [[round(math.sin(math.radians(element)), 4) for element in row] for row in matrix]\n",
        "print(\"Original 5x7 Matrix:\")\n",
        "for row in matrix:\n",
        "    print(row)\n",
        "print(\"\\nSine of each element (in radians, rounded to 4 decimal places):\")\n",
        "for row in sine_matrix:\n",
        "    print(row)\n"
      ]
    },
    {
      "cell_type": "markdown",
      "metadata": {
        "id": "-St006l8loTZ"
      },
      "source": [
        "___\n",
        "**Write a program to generate a ranodm matrix of size 5 X 6. Consider the 3rd and 4th row; and 2nd, 3rd and 4th column and print the resultant matrix using slicing**"
      ]
    },
    {
      "cell_type": "code",
      "execution_count": 7,
      "metadata": {
        "id": "SUSwF0zRloTZ",
        "colab": {
          "base_uri": "https://localhost:8080/"
        },
        "outputId": "5197f53a-5d82-40f2-a86b-dc12913f7b29"
      },
      "outputs": [
        {
          "output_type": "stream",
          "name": "stdout",
          "text": [
            "Original 5x6 Matrix:\n",
            "[93, 67, 56, 37, 40, 27]\n",
            "[5, 39, 12, 38, 58, 80]\n",
            "[76, 48, 10, 60, 5, 26]\n",
            "[99, 74, 92, 47, 4, 79]\n",
            "[95, 67, 72, 99, 11, 23]\n",
            "\n",
            "Sliced Matrix (Rows 3 & 4, Columns 2 to 4):\n",
            "[48, 10, 60]\n",
            "[74, 92, 47]\n"
          ]
        }
      ],
      "source": [
        "import random\n",
        "rows, cols = 5, 6\n",
        "matrix = [[random.randint(1, 100) for _ in range(cols)] for _ in range(rows)]\n",
        "sliced_matrix = [row[1:4] for row in matrix[2:4]]\n",
        "print(\"Original 5x6 Matrix:\")\n",
        "for row in matrix:\n",
        "    print(row)\n",
        "print(\"\\nSliced Matrix (Rows 3 & 4, Columns 2 to 4):\")\n",
        "for row in sliced_matrix:\n",
        "    print(row)\n"
      ]
    },
    {
      "cell_type": "markdown",
      "metadata": {
        "id": "np6xZQWTloTa"
      },
      "source": [
        "### Great Job!"
      ]
    }
  ],
  "metadata": {
    "kernelspec": {
      "display_name": "Python 3 (ipykernel)",
      "language": "python",
      "name": "python3"
    },
    "language_info": {
      "codemirror_mode": {
        "name": "ipython",
        "version": 3
      },
      "file_extension": ".py",
      "mimetype": "text/x-python",
      "name": "python",
      "nbconvert_exporter": "python",
      "pygments_lexer": "ipython3",
      "version": "3.11.7"
    },
    "colab": {
      "provenance": []
    }
  },
  "nbformat": 4,
  "nbformat_minor": 0
}