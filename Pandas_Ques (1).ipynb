{
  "cells": [
    {
      "cell_type": "markdown",
      "metadata": {
        "id": "qcV0GNfbm2MC"
      },
      "source": [
        "______\n",
        "**1. Write a program to initialize a dictionary (of your choice) and create a pandas DataFrame from it. Print the dataframe?**"
      ]
    },
    {
      "cell_type": "code",
      "execution_count": 2,
      "metadata": {
        "id": "b8TpzXd5m2MD",
        "colab": {
          "base_uri": "https://localhost:8080/"
        },
        "outputId": "77d739e6-87b5-441c-981f-90931ba56269"
      },
      "outputs": [
        {
          "output_type": "stream",
          "name": "stdout",
          "text": [
            "     Name  Age\n",
            "0    Moli   24\n",
            "1    Anvi   22\n",
            "2  Atharv   23\n"
          ]
        }
      ],
      "source": [
        "import pandas as pd\n",
        "data = {\n",
        "    'Name': ['Moli', 'Anvi', 'Atharv'],\n",
        "    'Age': [24, 22, 23]\n",
        "}\n",
        "df = pd.DataFrame(data)\n",
        "print(df)\n"
      ]
    },
    {
      "cell_type": "markdown",
      "metadata": {
        "id": "TKhMaxxZm2MD"
      },
      "source": [
        "___\n",
        "**2. Write a program to read the CSV file \"summer.csv\" into a pandas DataFrame \"df\", display the first 5 rows, and print the DataFrame's shape**"
      ]
    },
    {
      "cell_type": "code",
      "execution_count": 3,
      "metadata": {
        "id": "X3KlxWcfm2MD",
        "colab": {
          "base_uri": "https://localhost:8080/"
        },
        "outputId": "27df6260-7b82-416b-8083-89f3f32ee0ba"
      },
      "outputs": [
        {
          "output_type": "stream",
          "name": "stdout",
          "text": [
            "First 5 rows:\n",
            "   Year    City     Sport Discipline             Athlete Country Gender  \\\n",
            "0  1896  Athens  Aquatics   Swimming       HAJOS, Alfred     HUN    Men   \n",
            "1  1896  Athens  Aquatics   Swimming    HERSCHMANN, Otto     AUT    Men   \n",
            "2  1896  Athens  Aquatics   Swimming   DRIVAS, Dimitrios     GRE    Men   \n",
            "3  1896  Athens  Aquatics   Swimming  MALOKINIS, Ioannis     GRE    Men   \n",
            "4  1896  Athens  Aquatics   Swimming  CHASAPIS, Spiridon     GRE    Men   \n",
            "\n",
            "                        Event   Medal  \n",
            "0              100M Freestyle    Gold  \n",
            "1              100M Freestyle  Silver  \n",
            "2  100M Freestyle For Sailors  Bronze  \n",
            "3  100M Freestyle For Sailors    Gold  \n",
            "4  100M Freestyle For Sailors  Silver  \n",
            "\n",
            "Shape of the DataFrame:\n",
            "(31165, 9)\n"
          ]
        }
      ],
      "source": [
        "import pandas as pd\n",
        "df = pd.read_csv(\"summer.csv\")\n",
        "print(\"First 5 rows:\")\n",
        "print(df.head())\n",
        "print(\"\\nShape of the DataFrame:\")\n",
        "print(df.shape)"
      ]
    },
    {
      "cell_type": "markdown",
      "metadata": {
        "id": "hhREPppvm2MD"
      },
      "source": [
        "___\n",
        "**3. Write a program to display the last 10 rows of the DataFrame?**"
      ]
    },
    {
      "cell_type": "code",
      "execution_count": 4,
      "metadata": {
        "id": "0LMVJXRPm2ME",
        "colab": {
          "base_uri": "https://localhost:8080/"
        },
        "outputId": "60283b60-11b8-4b74-8d88-d9e64b19c3fb"
      },
      "outputs": [
        {
          "output_type": "stream",
          "name": "stdout",
          "text": [
            "Last 10 rows:\n",
            "       Year    City      Sport           Discipline  \\\n",
            "31155  2012  London  Wrestling  Wrestling Freestyle   \n",
            "31156  2012  London  Wrestling  Wrestling Freestyle   \n",
            "31157  2012  London  Wrestling  Wrestling Freestyle   \n",
            "31158  2012  London  Wrestling  Wrestling Freestyle   \n",
            "31159  2012  London  Wrestling  Wrestling Freestyle   \n",
            "31160  2012  London  Wrestling  Wrestling Freestyle   \n",
            "31161  2012  London  Wrestling  Wrestling Freestyle   \n",
            "31162  2012  London  Wrestling  Wrestling Freestyle   \n",
            "31163  2012  London  Wrestling  Wrestling Freestyle   \n",
            "31164  2012  London  Wrestling  Wrestling Freestyle   \n",
            "\n",
            "                            Athlete Country Gender     Event   Medal  \n",
            "31155                 AHMADOV, Emin     AZE    Men  Wg 74 KG  Bronze  \n",
            "31156          KAZAKEVIC, Aleksandr     LTU    Men  Wg 74 KG  Bronze  \n",
            "31157                 KHUGAEV, Alan     RUS    Men  Wg 84 KG    Gold  \n",
            "31158  EBRAHIM, Karam Mohamed Gaber     EGY    Men  Wg 84 KG  Silver  \n",
            "31159               GAJIYEV, Danyal     KAZ    Men  Wg 84 KG  Bronze  \n",
            "31160            JANIKOWSKI, Damian     POL    Men  Wg 84 KG  Bronze  \n",
            "31161     REZAEI, Ghasem Gholamreza     IRI    Men  Wg 96 KG    Gold  \n",
            "31162                TOTROV, Rustam     RUS    Men  Wg 96 KG  Silver  \n",
            "31163             ALEKSANYAN, Artur     ARM    Men  Wg 96 KG  Bronze  \n",
            "31164                LIDBERG, Jimmy     SWE    Men  Wg 96 KG  Bronze  \n"
          ]
        }
      ],
      "source": [
        "import pandas as pd\n",
        "df = pd.read_csv(\"summer.csv\")\n",
        "print(\"Last 10 rows:\")\n",
        "print(df.tail(10))\n",
        "\n"
      ]
    },
    {
      "cell_type": "markdown",
      "metadata": {
        "id": "F53jodYXm2ME"
      },
      "source": [
        "___\n",
        "**4. Write a program to get a summary of the DataFrame (such as the mean, count, etc.) and print the data types of all columns?**"
      ]
    },
    {
      "cell_type": "code",
      "execution_count": 5,
      "metadata": {
        "id": "Jf8-scn7m2ME",
        "colab": {
          "base_uri": "https://localhost:8080/"
        },
        "outputId": "c4f82f11-5041-4ec4-9d3f-c674f4a2166e"
      },
      "outputs": [
        {
          "output_type": "stream",
          "name": "stdout",
          "text": [
            "Summary statistics of the DataFrame:\n",
            "                Year    City     Sport Discipline          Athlete Country  \\\n",
            "count   31165.000000   31165     31165      31165            31165   31161   \n",
            "unique           NaN      22        43         67            22762     147   \n",
            "top              NaN  London  Aquatics  Athletics  PHELPS, Michael     USA   \n",
            "freq             NaN    3567      4170       3638               22    4585   \n",
            "mean     1970.482785     NaN       NaN        NaN              NaN     NaN   \n",
            "std        33.158416     NaN       NaN        NaN              NaN     NaN   \n",
            "min      1896.000000     NaN       NaN        NaN              NaN     NaN   \n",
            "25%      1948.000000     NaN       NaN        NaN              NaN     NaN   \n",
            "50%      1980.000000     NaN       NaN        NaN              NaN     NaN   \n",
            "75%      2000.000000     NaN       NaN        NaN              NaN     NaN   \n",
            "max      2012.000000     NaN       NaN        NaN              NaN     NaN   \n",
            "\n",
            "       Gender     Event  Medal  \n",
            "count   31165     31165  31165  \n",
            "unique      2       666      3  \n",
            "top       Men  Football   Gold  \n",
            "freq    22746      1497  10486  \n",
            "mean      NaN       NaN    NaN  \n",
            "std       NaN       NaN    NaN  \n",
            "min       NaN       NaN    NaN  \n",
            "25%       NaN       NaN    NaN  \n",
            "50%       NaN       NaN    NaN  \n",
            "75%       NaN       NaN    NaN  \n",
            "max       NaN       NaN    NaN  \n",
            "\n",
            "Data types of all columns:\n",
            "Year           int64\n",
            "City          object\n",
            "Sport         object\n",
            "Discipline    object\n",
            "Athlete       object\n",
            "Country       object\n",
            "Gender        object\n",
            "Event         object\n",
            "Medal         object\n",
            "dtype: object\n"
          ]
        }
      ],
      "source": [
        "import pandas as pd\n",
        "df = pd.read_csv(\"summer.csv\")\n",
        "print(\"Summary statistics of the DataFrame:\")\n",
        "print(df.describe(include='all'))\n",
        "print(\"\\nData types of all columns:\")\n",
        "print(df.dtypes)\n"
      ]
    },
    {
      "cell_type": "markdown",
      "metadata": {
        "id": "1Qa4jQAlm2ME"
      },
      "source": [
        "___\n",
        "**5. Write a program to select a single column \"Gender\" from the DataFrame?**"
      ]
    },
    {
      "cell_type": "code",
      "execution_count": 6,
      "metadata": {
        "id": "kVCfVte4m2ME",
        "colab": {
          "base_uri": "https://localhost:8080/"
        },
        "outputId": "ea23f72a-a51e-4652-e604-6a4e573c906f"
      },
      "outputs": [
        {
          "output_type": "stream",
          "name": "stdout",
          "text": [
            "Gender column:\n",
            "0        Men\n",
            "1        Men\n",
            "2        Men\n",
            "3        Men\n",
            "4        Men\n",
            "        ... \n",
            "31160    Men\n",
            "31161    Men\n",
            "31162    Men\n",
            "31163    Men\n",
            "31164    Men\n",
            "Name: Gender, Length: 31165, dtype: object\n"
          ]
        }
      ],
      "source": [
        "import pandas as pd\n",
        "df = pd.read_csv(\"summer.csv\")\n",
        "gender_column = df[\"Gender\"]\n",
        "print(\"Gender column:\")\n",
        "print(gender_column)\n"
      ]
    },
    {
      "cell_type": "markdown",
      "metadata": {
        "id": "rxmLBA_5m2ME"
      },
      "source": [
        "___\n",
        "**6. Write a program to select multiple columns \"Year\" and \"City\" from the DataFrame?**"
      ]
    },
    {
      "cell_type": "code",
      "execution_count": 8,
      "metadata": {
        "id": "HgDXSaBzm2ME",
        "colab": {
          "base_uri": "https://localhost:8080/"
        },
        "outputId": "26ab3640-8f9c-4ecd-a618-289ee9951698"
      },
      "outputs": [
        {
          "output_type": "stream",
          "name": "stdout",
          "text": [
            "Selected columns - Year and City:\n",
            "       Year    City\n",
            "0      1896  Athens\n",
            "1      1896  Athens\n",
            "2      1896  Athens\n",
            "3      1896  Athens\n",
            "4      1896  Athens\n",
            "...     ...     ...\n",
            "31160  2012  London\n",
            "31161  2012  London\n",
            "31162  2012  London\n",
            "31163  2012  London\n",
            "31164  2012  London\n",
            "\n",
            "[31165 rows x 2 columns]\n"
          ]
        }
      ],
      "source": [
        "import pandas as pd\n",
        "df = pd.read_csv(\"summer.csv\")\n",
        "s_col = df[[\"Year\", \"City\"]]\n",
        "print(\"Selected columns - Year and City:\")\n",
        "print(s_col)\n"
      ]
    },
    {
      "cell_type": "markdown",
      "metadata": {
        "id": "RR621DH9m2ME"
      },
      "source": [
        "___\n",
        "**7. Write a program to  filter rows in a DataFrame based on the condition that Gender = Men ?**"
      ]
    },
    {
      "cell_type": "code",
      "execution_count": 9,
      "metadata": {
        "id": "-6jOhf_qm2ME",
        "colab": {
          "base_uri": "https://localhost:8080/"
        },
        "outputId": "af72178c-71ad-4ff3-86c5-dda9c309d2ae"
      },
      "outputs": [
        {
          "output_type": "stream",
          "name": "stdout",
          "text": [
            "Rows where Gender is 'Men':\n",
            "       Year    City      Sport           Discipline  \\\n",
            "0      1896  Athens   Aquatics             Swimming   \n",
            "1      1896  Athens   Aquatics             Swimming   \n",
            "2      1896  Athens   Aquatics             Swimming   \n",
            "3      1896  Athens   Aquatics             Swimming   \n",
            "4      1896  Athens   Aquatics             Swimming   \n",
            "...     ...     ...        ...                  ...   \n",
            "31160  2012  London  Wrestling  Wrestling Freestyle   \n",
            "31161  2012  London  Wrestling  Wrestling Freestyle   \n",
            "31162  2012  London  Wrestling  Wrestling Freestyle   \n",
            "31163  2012  London  Wrestling  Wrestling Freestyle   \n",
            "31164  2012  London  Wrestling  Wrestling Freestyle   \n",
            "\n",
            "                         Athlete Country Gender                       Event  \\\n",
            "0                  HAJOS, Alfred     HUN    Men              100M Freestyle   \n",
            "1               HERSCHMANN, Otto     AUT    Men              100M Freestyle   \n",
            "2              DRIVAS, Dimitrios     GRE    Men  100M Freestyle For Sailors   \n",
            "3             MALOKINIS, Ioannis     GRE    Men  100M Freestyle For Sailors   \n",
            "4             CHASAPIS, Spiridon     GRE    Men  100M Freestyle For Sailors   \n",
            "...                          ...     ...    ...                         ...   \n",
            "31160         JANIKOWSKI, Damian     POL    Men                    Wg 84 KG   \n",
            "31161  REZAEI, Ghasem Gholamreza     IRI    Men                    Wg 96 KG   \n",
            "31162             TOTROV, Rustam     RUS    Men                    Wg 96 KG   \n",
            "31163          ALEKSANYAN, Artur     ARM    Men                    Wg 96 KG   \n",
            "31164             LIDBERG, Jimmy     SWE    Men                    Wg 96 KG   \n",
            "\n",
            "        Medal  \n",
            "0        Gold  \n",
            "1      Silver  \n",
            "2      Bronze  \n",
            "3        Gold  \n",
            "4      Silver  \n",
            "...       ...  \n",
            "31160  Bronze  \n",
            "31161    Gold  \n",
            "31162  Silver  \n",
            "31163  Bronze  \n",
            "31164  Bronze  \n",
            "\n",
            "[22746 rows x 9 columns]\n"
          ]
        }
      ],
      "source": [
        "import pandas as pd\n",
        "df = pd.read_csv(\"summer.csv\")\n",
        "men_df = df[df[\"Gender\"] == \"Men\"]\n",
        "print(\"Rows where Gender is 'Men':\")\n",
        "print(men_df)\n"
      ]
    },
    {
      "cell_type": "markdown",
      "metadata": {
        "id": "24rVH2uLm2ME"
      },
      "source": [
        "___\n",
        "**8. Write a program to select and print the first 5 rows and columns 2 to 6 (inclusive) of the DataFrame. Also, print the type of the resulting object?**"
      ]
    },
    {
      "cell_type": "code",
      "execution_count": 10,
      "metadata": {
        "id": "fc1kT-pam2ME",
        "colab": {
          "base_uri": "https://localhost:8080/"
        },
        "outputId": "f91a77b6-510c-41a9-e295-9fc4f872d196"
      },
      "outputs": [
        {
          "output_type": "stream",
          "name": "stdout",
          "text": [
            "Selected data (first 5 rows, columns 2 to 6):\n",
            "     City     Sport Discipline             Athlete Country\n",
            "0  Athens  Aquatics   Swimming       HAJOS, Alfred     HUN\n",
            "1  Athens  Aquatics   Swimming    HERSCHMANN, Otto     AUT\n",
            "2  Athens  Aquatics   Swimming   DRIVAS, Dimitrios     GRE\n",
            "3  Athens  Aquatics   Swimming  MALOKINIS, Ioannis     GRE\n",
            "4  Athens  Aquatics   Swimming  CHASAPIS, Spiridon     GRE\n",
            "\n",
            "Type of the resulting object:\n",
            "<class 'pandas.core.frame.DataFrame'>\n"
          ]
        }
      ],
      "source": [
        "import pandas as pd\n",
        "df = pd.read_csv(\"summer.csv\")\n",
        "subset = df.iloc[0:5, 1:6]\n",
        "print(\"Selected data (first 5 rows, columns 2 to 6):\")\n",
        "print(subset)\n",
        "print(\"\\nType of the resulting object:\")\n",
        "print(type(subset))\n"
      ]
    },
    {
      "cell_type": "markdown",
      "metadata": {
        "id": "HIQHrOp9m2MF"
      },
      "source": [
        "___\n",
        "**9. Write a program to  delete a column \"City\" from the DataFrame and print the new dataframe??**"
      ]
    },
    {
      "cell_type": "code",
      "execution_count": 11,
      "metadata": {
        "id": "Vj7EGDH1m2MF",
        "colab": {
          "base_uri": "https://localhost:8080/"
        },
        "outputId": "7113e034-d774-4649-ce91-d0498663731d"
      },
      "outputs": [
        {
          "output_type": "stream",
          "name": "stdout",
          "text": [
            "DataFrame after deleting the 'City' column:\n",
            "       Year      Sport           Discipline                    Athlete  \\\n",
            "0      1896   Aquatics             Swimming              HAJOS, Alfred   \n",
            "1      1896   Aquatics             Swimming           HERSCHMANN, Otto   \n",
            "2      1896   Aquatics             Swimming          DRIVAS, Dimitrios   \n",
            "3      1896   Aquatics             Swimming         MALOKINIS, Ioannis   \n",
            "4      1896   Aquatics             Swimming         CHASAPIS, Spiridon   \n",
            "...     ...        ...                  ...                        ...   \n",
            "31160  2012  Wrestling  Wrestling Freestyle         JANIKOWSKI, Damian   \n",
            "31161  2012  Wrestling  Wrestling Freestyle  REZAEI, Ghasem Gholamreza   \n",
            "31162  2012  Wrestling  Wrestling Freestyle             TOTROV, Rustam   \n",
            "31163  2012  Wrestling  Wrestling Freestyle          ALEKSANYAN, Artur   \n",
            "31164  2012  Wrestling  Wrestling Freestyle             LIDBERG, Jimmy   \n",
            "\n",
            "      Country Gender                       Event   Medal  \n",
            "0         HUN    Men              100M Freestyle    Gold  \n",
            "1         AUT    Men              100M Freestyle  Silver  \n",
            "2         GRE    Men  100M Freestyle For Sailors  Bronze  \n",
            "3         GRE    Men  100M Freestyle For Sailors    Gold  \n",
            "4         GRE    Men  100M Freestyle For Sailors  Silver  \n",
            "...       ...    ...                         ...     ...  \n",
            "31160     POL    Men                    Wg 84 KG  Bronze  \n",
            "31161     IRI    Men                    Wg 96 KG    Gold  \n",
            "31162     RUS    Men                    Wg 96 KG  Silver  \n",
            "31163     ARM    Men                    Wg 96 KG  Bronze  \n",
            "31164     SWE    Men                    Wg 96 KG  Bronze  \n",
            "\n",
            "[31165 rows x 8 columns]\n"
          ]
        }
      ],
      "source": [
        "import pandas as pd\n",
        "df = pd.read_csv(\"summer.csv\")\n",
        "df = df.drop(columns=[\"City\"])\n",
        "print(\"DataFrame after deleting the 'City' column:\")\n",
        "print(df)\n"
      ]
    },
    {
      "cell_type": "markdown",
      "metadata": {
        "id": "oxocLbZEm2MF"
      },
      "source": [
        "___\n",
        "**10. Write a program to  rename a column \"Athlete\" to \"Participants\" in the DataFrame?**"
      ]
    },
    {
      "cell_type": "code",
      "execution_count": 12,
      "metadata": {
        "id": "HD5JU-J7m2MF",
        "colab": {
          "base_uri": "https://localhost:8080/"
        },
        "outputId": "9e0a5c17-2748-4f83-bc29-052dc6882b8f"
      },
      "outputs": [
        {
          "output_type": "stream",
          "name": "stdout",
          "text": [
            "DataFrame after renaming 'Athlete' to 'Participants':\n",
            "       Year    City      Sport           Discipline  \\\n",
            "0      1896  Athens   Aquatics             Swimming   \n",
            "1      1896  Athens   Aquatics             Swimming   \n",
            "2      1896  Athens   Aquatics             Swimming   \n",
            "3      1896  Athens   Aquatics             Swimming   \n",
            "4      1896  Athens   Aquatics             Swimming   \n",
            "...     ...     ...        ...                  ...   \n",
            "31160  2012  London  Wrestling  Wrestling Freestyle   \n",
            "31161  2012  London  Wrestling  Wrestling Freestyle   \n",
            "31162  2012  London  Wrestling  Wrestling Freestyle   \n",
            "31163  2012  London  Wrestling  Wrestling Freestyle   \n",
            "31164  2012  London  Wrestling  Wrestling Freestyle   \n",
            "\n",
            "                    Participants Country Gender                       Event  \\\n",
            "0                  HAJOS, Alfred     HUN    Men              100M Freestyle   \n",
            "1               HERSCHMANN, Otto     AUT    Men              100M Freestyle   \n",
            "2              DRIVAS, Dimitrios     GRE    Men  100M Freestyle For Sailors   \n",
            "3             MALOKINIS, Ioannis     GRE    Men  100M Freestyle For Sailors   \n",
            "4             CHASAPIS, Spiridon     GRE    Men  100M Freestyle For Sailors   \n",
            "...                          ...     ...    ...                         ...   \n",
            "31160         JANIKOWSKI, Damian     POL    Men                    Wg 84 KG   \n",
            "31161  REZAEI, Ghasem Gholamreza     IRI    Men                    Wg 96 KG   \n",
            "31162             TOTROV, Rustam     RUS    Men                    Wg 96 KG   \n",
            "31163          ALEKSANYAN, Artur     ARM    Men                    Wg 96 KG   \n",
            "31164             LIDBERG, Jimmy     SWE    Men                    Wg 96 KG   \n",
            "\n",
            "        Medal  \n",
            "0        Gold  \n",
            "1      Silver  \n",
            "2      Bronze  \n",
            "3        Gold  \n",
            "4      Silver  \n",
            "...       ...  \n",
            "31160  Bronze  \n",
            "31161    Gold  \n",
            "31162  Silver  \n",
            "31163  Bronze  \n",
            "31164  Bronze  \n",
            "\n",
            "[31165 rows x 9 columns]\n"
          ]
        }
      ],
      "source": [
        "import pandas as pd\n",
        "df = pd.read_csv(\"summer.csv\")\n",
        "df = df.rename(columns={\"Athlete\": \"Participants\"})\n",
        "print(\"DataFrame after renaming 'Athlete' to 'Participants':\")\n",
        "print(df)\n"
      ]
    },
    {
      "cell_type": "markdown",
      "metadata": {
        "id": "bvpYy245m2MF"
      },
      "source": [
        "___\n",
        "**11. Write a program to select and print the \"Participants\", \"Medal\" and \"Event\" columns for index 10 and 201 from the DataFrame.?**"
      ]
    },
    {
      "cell_type": "code",
      "execution_count": 13,
      "metadata": {
        "id": "OSgRIQdpm2MF",
        "colab": {
          "base_uri": "https://localhost:8080/"
        },
        "outputId": "a31dfacb-ae50-41df-d44f-a16af205a342"
      },
      "outputs": [
        {
          "output_type": "stream",
          "name": "stdout",
          "text": [
            "Selected data for index 10 and 201:\n",
            "          Participants   Medal           Event\n",
            "10   PEPANOS, Antonios  Silver  400M Freestyle\n",
            "201    LISTER, William    Gold      Water Polo\n"
          ]
        }
      ],
      "source": [
        "import pandas as pd\n",
        "df = pd.read_csv(\"summer.csv\")\n",
        "df = df.rename(columns={\"Athlete\": \"Participants\"})\n",
        "selected_data = df.loc[[10, 201], [\"Participants\", \"Medal\", \"Event\"]]\n",
        "print(\"Selected data for index 10 and 201:\")\n",
        "print(selected_data)\n"
      ]
    },
    {
      "cell_type": "markdown",
      "metadata": {
        "id": "Zunfeqkym2MF"
      },
      "source": [
        "___\n",
        "**12. Write a program to display the first 10 rows of the df DataFrame and check for any missing values in each column.?**"
      ]
    },
    {
      "cell_type": "code",
      "execution_count": 14,
      "metadata": {
        "id": "i-sDeIWNm2MF",
        "colab": {
          "base_uri": "https://localhost:8080/"
        },
        "outputId": "e5f90c7f-eba3-4d85-88dd-4864b5f735cf"
      },
      "outputs": [
        {
          "output_type": "stream",
          "name": "stdout",
          "text": [
            "First 10 rows of the DataFrame:\n",
            "   Year    City     Sport Discipline                Athlete Country Gender  \\\n",
            "0  1896  Athens  Aquatics   Swimming          HAJOS, Alfred     HUN    Men   \n",
            "1  1896  Athens  Aquatics   Swimming       HERSCHMANN, Otto     AUT    Men   \n",
            "2  1896  Athens  Aquatics   Swimming      DRIVAS, Dimitrios     GRE    Men   \n",
            "3  1896  Athens  Aquatics   Swimming     MALOKINIS, Ioannis     GRE    Men   \n",
            "4  1896  Athens  Aquatics   Swimming     CHASAPIS, Spiridon     GRE    Men   \n",
            "5  1896  Athens  Aquatics   Swimming  CHOROPHAS, Efstathios     GRE    Men   \n",
            "6  1896  Athens  Aquatics   Swimming          HAJOS, Alfred     HUN    Men   \n",
            "7  1896  Athens  Aquatics   Swimming       ANDREOU, Joannis     GRE    Men   \n",
            "8  1896  Athens  Aquatics   Swimming  CHOROPHAS, Efstathios     GRE    Men   \n",
            "9  1896  Athens  Aquatics   Swimming          NEUMANN, Paul     AUT    Men   \n",
            "\n",
            "                        Event   Medal  \n",
            "0              100M Freestyle    Gold  \n",
            "1              100M Freestyle  Silver  \n",
            "2  100M Freestyle For Sailors  Bronze  \n",
            "3  100M Freestyle For Sailors    Gold  \n",
            "4  100M Freestyle For Sailors  Silver  \n",
            "5             1200M Freestyle  Bronze  \n",
            "6             1200M Freestyle    Gold  \n",
            "7             1200M Freestyle  Silver  \n",
            "8              400M Freestyle  Bronze  \n",
            "9              400M Freestyle    Gold  \n",
            "\n",
            "Missing values in each column:\n",
            "Year          0\n",
            "City          0\n",
            "Sport         0\n",
            "Discipline    0\n",
            "Athlete       0\n",
            "Country       4\n",
            "Gender        0\n",
            "Event         0\n",
            "Medal         0\n",
            "dtype: int64\n"
          ]
        }
      ],
      "source": [
        "import pandas as pd\n",
        "df = pd.read_csv(\"summer.csv\")\n",
        "print(\"First 10 rows of the DataFrame:\")\n",
        "print(df.head(10))\n",
        "print(\"\\nMissing values in each column:\")\n",
        "print(df.isnull().sum())\n"
      ]
    },
    {
      "cell_type": "markdown",
      "metadata": {
        "id": "CCLtjf9pm2MF"
      },
      "source": [
        "___\n",
        "**13. Write a program to select and print the \"Country\" and \"Medal\" columns from the df DataFrame, and then print the number of unique values in each of these columns.?**"
      ]
    },
    {
      "cell_type": "code",
      "execution_count": 15,
      "metadata": {
        "id": "Zc5EF7Okm2MF",
        "colab": {
          "base_uri": "https://localhost:8080/"
        },
        "outputId": "2685ebe5-47df-4934-aa71-10e1cf256a31"
      },
      "outputs": [
        {
          "output_type": "stream",
          "name": "stdout",
          "text": [
            "Selected columns - Country and Medal:\n",
            "      Country   Medal\n",
            "0         HUN    Gold\n",
            "1         AUT  Silver\n",
            "2         GRE  Bronze\n",
            "3         GRE    Gold\n",
            "4         GRE  Silver\n",
            "...       ...     ...\n",
            "31160     POL  Bronze\n",
            "31161     IRI    Gold\n",
            "31162     RUS  Silver\n",
            "31163     ARM  Bronze\n",
            "31164     SWE  Bronze\n",
            "\n",
            "[31165 rows x 2 columns]\n",
            "\n",
            "Number of unique values:\n",
            "Unique countries: 147\n",
            "Unique medals: 3\n"
          ]
        }
      ],
      "source": [
        "import pandas as pd\n",
        "df = pd.read_csv(\"summer.csv\")\n",
        "selected_columns = df[[\"Country\", \"Medal\"]]\n",
        "print(\"Selected columns - Country and Medal:\")\n",
        "print(selected_columns)\n",
        "print(\"\\nNumber of unique values:\")\n",
        "print(\"Unique countries:\", df[\"Country\"].nunique())\n",
        "print(\"Unique medals:\", df[\"Medal\"].nunique())\n"
      ]
    },
    {
      "cell_type": "markdown",
      "metadata": {
        "id": "FWgnrlx4m2MF"
      },
      "source": [
        "___\n",
        "**14. Write a program to group the df DataFrame by the \"Country\" column and calculate the total number of medals for each country. Print the result.?**"
      ]
    },
    {
      "cell_type": "code",
      "execution_count": 17,
      "metadata": {
        "id": "fRVgoVKhm2MG",
        "colab": {
          "base_uri": "https://localhost:8080/"
        },
        "outputId": "b4f917a2-fa57-4647-b5bd-9617b165fa97"
      },
      "outputs": [
        {
          "output_type": "stream",
          "name": "stdout",
          "text": [
            "Total number of medals for each country:\n",
            "Country\n",
            "USA    4585\n",
            "URS    2049\n",
            "GBR    1720\n",
            "FRA    1396\n",
            "GER    1305\n",
            "       ... \n",
            "NIG       1\n",
            "TOG       1\n",
            "TGA       1\n",
            "SUD       1\n",
            "UAE       1\n",
            "Name: Medal, Length: 147, dtype: int64\n"
          ]
        }
      ],
      "source": [
        "import pandas as pd\n",
        "df = pd.read_csv(\"summer.csv\")\n",
        "df = df.dropna(subset=[\"Medal\"])\n",
        "medal_count = df.groupby(\"Country\")[\"Medal\"].count()\n",
        "medal_count = medal_count.sort_values(ascending=False)\n",
        "print(\"Total number of medals for each country:\")\n",
        "print(medal_count)\n"
      ]
    },
    {
      "cell_type": "markdown",
      "metadata": {
        "id": "Kr2Yrim7m2MG"
      },
      "source": [
        "___\n",
        "**15. Write a program to sort the df DataFrame by the \"Year\" column in descending order and print the first 5 rows of the sorted DataFrame.?**"
      ]
    },
    {
      "cell_type": "code",
      "execution_count": 18,
      "metadata": {
        "id": "z7KZfXgxm2MG",
        "colab": {
          "base_uri": "https://localhost:8080/"
        },
        "outputId": "dca90b44-6acc-4dc7-dad3-1e6bba2cc6c2"
      },
      "outputs": [
        {
          "output_type": "stream",
          "name": "stdout",
          "text": [
            "Descending order:\n",
            "       Year    City      Sport           Discipline  \\\n",
            "31141  2012  London  Wrestling  Wrestling Freestyle   \n",
            "31143  2012  London  Wrestling  Wrestling Freestyle   \n",
            "31164  2012  London  Wrestling  Wrestling Freestyle   \n",
            "31163  2012  London  Wrestling  Wrestling Freestyle   \n",
            "31162  2012  London  Wrestling  Wrestling Freestyle   \n",
            "\n",
            "                                 Athlete Country Gender     Event   Medal  \n",
            "31141  SORYAN REIHANPOUR, Hamid Mohammad     IRI    Men  Wg 55 KG    Gold  \n",
            "31143                       MODOS, Peter     HUN    Men  Wg 55 KG  Bronze  \n",
            "31164                     LIDBERG, Jimmy     SWE    Men  Wg 96 KG  Bronze  \n",
            "31163                  ALEKSANYAN, Artur     ARM    Men  Wg 96 KG  Bronze  \n",
            "31162                     TOTROV, Rustam     RUS    Men  Wg 96 KG  Silver  \n"
          ]
        }
      ],
      "source": [
        "import pandas as pd\n",
        "df = pd.read_csv(\"summer.csv\")\n",
        "sorted_df = df.sort_values(by=\"Year\", ascending=False)\n",
        "print(\"Descending order:\")\n",
        "print(sorted_df.head(5))\n"
      ]
    },
    {
      "cell_type": "markdown",
      "metadata": {
        "id": "h_C8jJjSm2MG"
      },
      "source": [
        "___\n",
        "**16. Write a program to add a new column \"Century\" to the df DataFrame. Classify each event as occurring in the \"20th Century\" if the \"Year\" is less than 2000, or the \"21st Century\" if the \"Year\" is 2000 or later. Print the first 5 rows to verify the change.**"
      ]
    },
    {
      "cell_type": "code",
      "execution_count": 19,
      "metadata": {
        "id": "1-iS6bAim2MG",
        "colab": {
          "base_uri": "https://localhost:8080/"
        },
        "outputId": "70a8deb0-03d4-4619-d98a-3324620afa0f"
      },
      "outputs": [
        {
          "output_type": "stream",
          "name": "stdout",
          "text": [
            "First 5 rows with the new 'Century' column:\n",
            "   Year    City     Sport Discipline             Athlete Country Gender  \\\n",
            "0  1896  Athens  Aquatics   Swimming       HAJOS, Alfred     HUN    Men   \n",
            "1  1896  Athens  Aquatics   Swimming    HERSCHMANN, Otto     AUT    Men   \n",
            "2  1896  Athens  Aquatics   Swimming   DRIVAS, Dimitrios     GRE    Men   \n",
            "3  1896  Athens  Aquatics   Swimming  MALOKINIS, Ioannis     GRE    Men   \n",
            "4  1896  Athens  Aquatics   Swimming  CHASAPIS, Spiridon     GRE    Men   \n",
            "\n",
            "                        Event   Medal       Century  \n",
            "0              100M Freestyle    Gold  20th Century  \n",
            "1              100M Freestyle  Silver  20th Century  \n",
            "2  100M Freestyle For Sailors  Bronze  20th Century  \n",
            "3  100M Freestyle For Sailors    Gold  20th Century  \n",
            "4  100M Freestyle For Sailors  Silver  20th Century  \n"
          ]
        }
      ],
      "source": [
        "import pandas as pd\n",
        "df = pd.read_csv(\"summer.csv\")\n",
        "df[\"Century\"] = df[\"Year\"].apply(lambda x: \"20th Century\" if x < 2000 else \"21st Century\")\n",
        "print(\"First 5 rows with the new 'Century' column:\")\n",
        "print(df.head(5))\n"
      ]
    },
    {
      "cell_type": "markdown",
      "metadata": {
        "id": "BHc07ICSm2MH"
      },
      "source": [
        "___\n",
        "**17. Write a program to filter and print rows from the df DataFrame where the \"Country\" is \"USA\" and the \"Medal\" is \"Gold\". Also, count the number of rows that meet this condition.**"
      ]
    },
    {
      "cell_type": "code",
      "execution_count": 20,
      "metadata": {
        "id": "m7C99lk_m2MH",
        "colab": {
          "base_uri": "https://localhost:8080/"
        },
        "outputId": "717f6edd-5530-45bc-9b6d-a2bb9a1f624d"
      },
      "outputs": [
        {
          "output_type": "stream",
          "name": "stdout",
          "text": [
            "Rows where Country is 'USA' and Medal is 'Gold':\n",
            "\n",
            "Total number of Gold medals won by USA: 2235\n"
          ]
        }
      ],
      "source": [
        "import pandas as pd\n",
        "df = pd.read_csv(\"summer.csv\")\n",
        "usa_gold_medals = df[(df[\"Country\"] == \"USA\") & (df[\"Medal\"] == \"Gold\")]\n",
        "print(\"Rows where Country is 'USA' and Medal is 'Gold':\")\n",
        "print(\"\\nTotal number of Gold medals won by USA:\", len(usa_gold_medals))\n"
      ]
    },
    {
      "cell_type": "markdown",
      "metadata": {
        "id": "MhnhQ1Erm2MH"
      },
      "source": [
        "___\n",
        "**18. Write a program to create a new column \"Medal Points\" in the df DataFrame. Assign 3 points for \"Gold\", 2 points for \"Silver\", and 1 point for \"Bronze\". Print the first 5 rows to verify the changes.**"
      ]
    },
    {
      "cell_type": "code",
      "execution_count": 22,
      "metadata": {
        "id": "6f_CLPsom2MH",
        "colab": {
          "base_uri": "https://localhost:8080/"
        },
        "outputId": "451a7cc2-85a3-4313-fb14-69f798da8334"
      },
      "outputs": [
        {
          "output_type": "stream",
          "name": "stdout",
          "text": [
            "First 5 rows with the new 'Medal Points' column:\n",
            "   Year    City     Sport Discipline             Athlete Country Gender  \\\n",
            "0  1896  Athens  Aquatics   Swimming       HAJOS, Alfred     HUN    Men   \n",
            "1  1896  Athens  Aquatics   Swimming    HERSCHMANN, Otto     AUT    Men   \n",
            "2  1896  Athens  Aquatics   Swimming   DRIVAS, Dimitrios     GRE    Men   \n",
            "3  1896  Athens  Aquatics   Swimming  MALOKINIS, Ioannis     GRE    Men   \n",
            "4  1896  Athens  Aquatics   Swimming  CHASAPIS, Spiridon     GRE    Men   \n",
            "\n",
            "                        Event   Medal  Medal Points  \n",
            "0              100M Freestyle    Gold             3  \n",
            "1              100M Freestyle  Silver             2  \n",
            "2  100M Freestyle For Sailors  Bronze             1  \n",
            "3  100M Freestyle For Sailors    Gold             3  \n",
            "4  100M Freestyle For Sailors  Silver             2  \n"
          ]
        }
      ],
      "source": [
        "import pandas as pd\n",
        "df = pd.read_csv(\"summer.csv\")\n",
        "points_mapping = {\n",
        "    \"Gold\": 3,\n",
        "    \"Silver\": 2,\n",
        "    \"Bronze\": 1\n",
        "}\n",
        "df[\"Medal Points\"] = df[\"Medal\"].map(points_mapping).fillna(0).astype(int)\n",
        "print(\"First 5 rows with the new 'Medal Points' column:\")\n",
        "print(df.head(5))\n"
      ]
    },
    {
      "cell_type": "markdown",
      "metadata": {
        "id": "_w8CAZoGm2MH"
      },
      "source": [
        "___\n",
        "**19. Write a program to filter the df DataFrame to include only rows where the \"Country\" is \"USA\". Then, group the filtered DataFrame by \"Year\" and calculate the total number of medals won by the USA each year. Print the results.**"
      ]
    },
    {
      "cell_type": "code",
      "execution_count": 23,
      "metadata": {
        "id": "PZwGcKaEm2MH",
        "colab": {
          "base_uri": "https://localhost:8080/"
        },
        "outputId": "44f83fbe-538b-4703-f412-c3c5422ca740"
      },
      "outputs": [
        {
          "output_type": "stream",
          "name": "stdout",
          "text": [
            "Total number of medals won by USA each year:\n",
            "Year\n",
            "1896     20\n",
            "1900     55\n",
            "1904    394\n",
            "1908     63\n",
            "1912    101\n",
            "1920    193\n",
            "1924    198\n",
            "1928     84\n",
            "1932    181\n",
            "1936     92\n",
            "1948    148\n",
            "1952    130\n",
            "1956    118\n",
            "1960    112\n",
            "1964    150\n",
            "1968    149\n",
            "1972    155\n",
            "1976    155\n",
            "1984    333\n",
            "1988    193\n",
            "1992    224\n",
            "1996    260\n",
            "2000    248\n",
            "2004    264\n",
            "2008    315\n",
            "2012    250\n",
            "Name: Medal, dtype: int64\n"
          ]
        }
      ],
      "source": [
        "import pandas as pd\n",
        "df = pd.read_csv(\"summer.csv\")\n",
        "usa_df = df[df[\"Country\"] == \"USA\"]\n",
        "usa_medals = usa_df.dropna(subset=[\"Medal\"])\n",
        "medals_per_year = usa_medals.groupby(\"Year\")[\"Medal\"].count()\n",
        "print(\"Total number of medals won by USA each year:\")\n",
        "print(medals_per_year)\n"
      ]
    },
    {
      "cell_type": "markdown",
      "metadata": {
        "id": "Fo3Zq-mTm2MH"
      },
      "source": [
        "___\n",
        "**20. Write a program to identify the athlete who has won the most medals. Display the athlete's name and the total number of medals they have won.**"
      ]
    },
    {
      "cell_type": "code",
      "execution_count": 24,
      "metadata": {
        "id": "qF5-f6sKm2MH",
        "colab": {
          "base_uri": "https://localhost:8080/"
        },
        "outputId": "c1d9c456-cade-46cb-c6eb-2987cd87274a"
      },
      "outputs": [
        {
          "output_type": "stream",
          "name": "stdout",
          "text": [
            "Athlete with the most medals:\n",
            "Name: PHELPS, Michael\n",
            "Total Medals: 22\n"
          ]
        }
      ],
      "source": [
        "import pandas as pd\n",
        "df = pd.read_csv(\"summer.csv\")\n",
        "medal_winners = df.dropna(subset=[\"Medal\"])\n",
        "medals_by_athlete = medal_winners[\"Athlete\"].value_counts()\n",
        "top_athlete = medals_by_athlete.idxmax()\n",
        "top_medal_count = medals_by_athlete.max()\n",
        "print(\"Athlete with the most medals:\")\n",
        "print(\"Name:\", top_athlete)\n",
        "print(\"Total Medals:\", top_medal_count)\n"
      ]
    },
    {
      "cell_type": "markdown",
      "metadata": {
        "id": "QPwEMGiOm2MH"
      },
      "source": [
        "___\n",
        "**21. Write a program to group the df DataFrame by the \"Sport\" column and calculate the number of each type of medal (Gold, Silver, Bronze) for each sport. Print the results.**"
      ]
    },
    {
      "cell_type": "code",
      "execution_count": 25,
      "metadata": {
        "id": "L7LEmyW8m2MH",
        "colab": {
          "base_uri": "https://localhost:8080/"
        },
        "outputId": "1754d21f-fd56-4e33-b1c9-dcb3bd94c5c2"
      },
      "outputs": [
        {
          "output_type": "stream",
          "name": "stdout",
          "text": [
            "Number of Gold, Silver, and Bronze medals by Sport:\n",
            "Medal              Bronze  Gold  Silver\n",
            "Sport                                  \n",
            "Aquatics             1365  1421    1384\n",
            "Archery                90   126     113\n",
            "Athletics            1199  1215    1224\n",
            "Badminton              52    46      46\n",
            "Baseball              112   111     112\n",
            "Basketball            334   342     336\n",
            "Basque Pelota           0     2       2\n",
            "Boxing                416   239     239\n",
            "Canoe                  27    27      27\n",
            "Canoe / Kayak         334   334     334\n",
            "Cricket                 0    12      12\n",
            "Croquet                 2     4       2\n",
            "Cycling               365   371     369\n",
            "Equestrian            306   320     313\n",
            "Fencing               519   552     542\n",
            "Football              509   503     485\n",
            "Golf                    4    13      13\n",
            "Gymnastics            731   820     756\n",
            "Handball              323   321     329\n",
            "Hockey                459   486     477\n",
            "Ice Hockey              8     8      11\n",
            "Jeu de paume            1     1       1\n",
            "Judo                  246   123     122\n",
            "Lacrosse                0    28      31\n",
            "Modern Pentathlon      60    60      60\n",
            "Polo                   17    22      27\n",
            "Rackets                 4     3       3\n",
            "Roque                   1     1       1\n",
            "Rowing                888   890     889\n",
            "Rugby                  23    78      91\n",
            "Sailing               325   412     372\n",
            "Shooting              380   384     386\n",
            "Skating                 9     9       9\n",
            "Softball               60    60      60\n",
            "Table Tennis           52    46      46\n",
            "Taekwondo              48    32      32\n",
            "Tennis                114    92      90\n",
            "Triathlon               8     8       8\n",
            "Tug of War             22    36      36\n",
            "Volleyball            331   332     331\n",
            "Water Motorsports       0     5       0\n",
            "Weightlifting         197   200     196\n",
            "Wrestling             428   391     393\n"
          ]
        }
      ],
      "source": [
        "import pandas as pd\n",
        "df = pd.read_csv(\"summer.csv\")\n",
        "df = df.dropna(subset=[\"Medal\"])\n",
        "medal_counts = df.groupby([\"Sport\", \"Medal\"]).size().unstack(fill_value=0)\n",
        "print(\"Number of Gold, Silver, and Bronze medals by Sport:\")\n",
        "print(medal_counts)\n"
      ]
    },
    {
      "cell_type": "markdown",
      "metadata": {
        "id": "pBOrlEawm2MH"
      },
      "source": [
        "### Good Luck!"
      ]
    }
  ],
  "metadata": {
    "kernelspec": {
      "display_name": "Python 3 (ipykernel)",
      "language": "python",
      "name": "python3"
    },
    "language_info": {
      "codemirror_mode": {
        "name": "ipython",
        "version": 3
      },
      "file_extension": ".py",
      "mimetype": "text/x-python",
      "name": "python",
      "nbconvert_exporter": "python",
      "pygments_lexer": "ipython3",
      "version": "3.11.7"
    },
    "colab": {
      "provenance": []
    }
  },
  "nbformat": 4,
  "nbformat_minor": 0
}